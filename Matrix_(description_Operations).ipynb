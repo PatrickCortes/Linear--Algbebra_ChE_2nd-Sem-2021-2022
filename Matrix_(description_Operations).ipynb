{
  "nbformat": 4,
  "nbformat_minor": 0,
  "metadata": {
    "colab": {
      "name": "Matrix (description/Operations)",
      "provenance": [],
      "authorship_tag": "ABX9TyOKBY5PvE07QtKK9jljXiIm",
      "include_colab_link": true
    },
    "kernelspec": {
      "name": "python3",
      "display_name": "Python 3"
    },
    "language_info": {
      "name": "python"
    }
  },
  "cells": [
    {
      "cell_type": "markdown",
      "metadata": {
        "id": "view-in-github",
        "colab_type": "text"
      },
      "source": [
        "<a href=\"https://colab.research.google.com/github/PatrickCortes/Linear--Algbebra_ChE_2nd-Sem-2021-2022/blob/main/Matrix_(description_Operations).ipynb\" target=\"_parent\"><img src=\"https://colab.research.google.com/assets/colab-badge.svg\" alt=\"Open In Colab\"/></a>"
      ]
    },
    {
      "cell_type": "code",
      "execution_count": null,
      "metadata": {
        "id": "fWmAE5iqKewY"
      },
      "outputs": [],
      "source": [
        ""
      ]
    },
    {
      "cell_type": "markdown",
      "source": [
        "### Objectives\n",
        "At the end of this activity you will be able to:\n",
        "1. Be familiar with matrices and their relation to linear equations.\n",
        "2. Perform basic matrix operations.\n",
        "3. Program and translate matrix equations and operations using Python.\n",
        "\n"
      ],
      "metadata": {
        "id": "T8mz5CeKLABf"
      }
    },
    {
      "cell_type": "code",
      "source": [
        "import numpy as np\n",
        "import matplotlib.pyplot as plt\n",
        "import scipy.linalg as la\n",
        "%matplotlib inline\n"
      ],
      "metadata": {
        "id": "ejfxlAamLCKm"
      },
      "execution_count": null,
      "outputs": []
    },
    {
      "cell_type": "markdown",
      "source": [
        "## Matrices"
      ],
      "metadata": {
        "id": "gmXgMJgaLm8Z"
      }
    },
    {
      "cell_type": "markdown",
      "source": [
        "$$\n",
        "A = \\left\\{\n",
        "    \\begin{array}\\\n",
        "        x + y \\\\ \n",
        "        4x - 10y\n",
        "    \\end{array}\n",
        "\\right. \\\\\n",
        "B = \\left\\{\n",
        "    \\begin{array}\\\n",
        "        x+y+z \\\\ \n",
        "        3x -2y -z \\\\\n",
        "        -x + 4y +2z\n",
        "    \\end{array}\n",
        "\\right. \\\\\n",
        "C = \\left\\{\n",
        "    \\begin{array}\\\n",
        "   w-2x+3y-4z \\\\\n",
        "   3w-x-2y+z \\\\\n",
        "   2w-x+3y-2z\n",
        "    \\end{array}\n",
        "\\right. \\\\\n",
        "$$"
      ],
      "metadata": {
        "id": "21rNp2VAMjTF"
      }
    },
    {
      "cell_type": "markdown",
      "source": [
        "### Given the matrix below, express it as a linear combination in a markdown.\n"
      ],
      "metadata": {
        "id": "vixKsNy9r6Np"
      }
    },
    {
      "cell_type": "markdown",
      "source": [
        "$$\n",
        "G = \\left\\{\n",
        "    \\begin{array}\\\n",
        "       x_1+7x_2+8x_3\\\\\n",
        "        2x_2+2x_3+2x_4\\\\ \n",
        "        4x_3+6x_2+7x_4\n",
        "    \\end{array}\n",
        "\\right. \n",
        "$$"
      ],
      "metadata": {
        "id": "d80f8bGDk5Hl"
      }
    },
    {
      "cell_type": "markdown",
      "source": [
        "$$\n",
        "G = \\begin{bmatrix} 1 & 7 &8 \\\\ 2 & 2 & 2\\\\ 4 & 6 & 7\\end{bmatrix} \\\\\n",
        "$$"
      ],
      "metadata": {
        "id": "dr0RgIBppvjw"
      }
    },
    {
      "cell_type": "markdown",
      "source": [
        "### Given the matrix below, display the output as a LaTeX makdown also express it as a system of linear combinations."
      ],
      "metadata": {
        "id": "ZQyLmxzbrR4R"
      }
    },
    {
      "cell_type": "markdown",
      "source": [
        "$$\n",
        "H = \\begin{bmatrix} 1 & 0 & 0 \\\\ 2 & 2 & 0\\\\ 4 & 6 & 7\\end{bmatrix} \\\\\n",
        "$$"
      ],
      "metadata": {
        "id": "zyt93HO1qrrk"
      }
    },
    {
      "cell_type": "markdown",
      "source": [
        "$$\n",
        "H = \\left\\{\n",
        "    \\begin{array}\\\n",
        "       x_1\\\\\n",
        "        2x_2+2x_3\\\\ \n",
        "        4x_3+6x_2+7x_4\n",
        "    \\end{array}\n",
        "\\right. \n",
        "$$"
      ],
      "metadata": {
        "id": "ypBgxpbps6vp"
      }
    },
    {
      "cell_type": "markdown",
      "source": [
        "##matrix "
      ],
      "metadata": {
        "id": "N43uvvoxOXd-"
      }
    },
    {
      "cell_type": "markdown",
      "source": [
        "$$\n",
        "A=\\begin{bmatrix} 4 & 4 \\\\ 4 & -10\\end{bmatrix} \\\\\n",
        "B=\\begin{bmatrix} 1 & 8 & 1 \\\\ 3 & -7 & -4 \\\\ -2 & 4 & 2\\end{bmatrix}\\\\\n",
        "C =\\begin{bmatrix} 5 & -1 & 3 & 8 \\\\ 3 & 10 & -2 & 1 \\\\ -6 &-1 & -1 & 8\\end{bmatrix}\\\\ $$"
      ],
      "metadata": {
        "id": "7QE1wgAjOZTr"
      }
    },
    {
      "cell_type": "markdown",
      "source": [
        "$$\n",
        "\\theta=\\begin{bmatrix} \\ 5x+3y-z\\end{bmatrix} \n",
        "$$\n",
        "\n",
        "\n"
      ],
      "metadata": {
        "id": "DnDNTpq6mwiz"
      }
    },
    {
      "cell_type": "code",
      "source": [
        ""
      ],
      "metadata": {
        "id": "2-cITcD2oUve"
      },
      "execution_count": null,
      "outputs": []
    },
    {
      "cell_type": "markdown",
      "source": [
        ""
      ],
      "metadata": {
        "id": "EHkxM3yinymo"
      }
    },
    {
      "cell_type": "markdown",
      "source": [
        "## Declaring Matrices"
      ],
      "metadata": {
        "id": "L9WcsZu9QOG-"
      }
    },
    {
      "cell_type": "markdown",
      "source": [
        "$$A=\\begin{bmatrix}\n",
        "a_{(0,0)}&a_{(0,1)}&\\dots&a_{(0,j-1)}\\\\\n",
        "a_{(1,0)}&a_{(1,1)}&\\dots&a_{(1,j-1)}\\\\\n",
        "\\vdots&\\vdots&\\ddots&\\vdots&\\\\\n",
        "a_{(i-1,0)}&a_{(i-1,1)}&\\dots&a_{(i-1,j-1)}\n",
        "\\end{bmatrix}\n",
        "$$\n"
      ],
      "metadata": {
        "id": "uplP6ULKQRNO"
      }
    },
    {
      "cell_type": "code",
      "source": [
        "## Since we'll be  discussing matrix. Let's make a function.\n",
        "def describe_mat(matrix):\n",
        "    print(f'Matrix:\\n{matrix}\\n\\nShape:\\t{matrix.shape}\\nRank:\\t{matrix.ndim}\\n')\n"
      ],
      "metadata": {
        "id": "sMUls20lQns0"
      },
      "execution_count": null,
      "outputs": []
    },
    {
      "cell_type": "code",
      "source": [
        "## declaring a 3 x 3 matrix\n",
        "A = np.array([\n",
        "    [1, -5, -2],\n",
        "    [5, 2, -8],\n",
        "    [4, -6, -10]\n",
        "])\n",
        "describe_mat(A)\n",
        "\n"
      ],
      "metadata": {
        "colab": {
          "base_uri": "https://localhost:8080/"
        },
        "id": "Gc83N9X7Qw1o",
        "outputId": "cec6bd41-902c-4308-d193-a05d74782190"
      },
      "execution_count": null,
      "outputs": [
        {
          "output_type": "stream",
          "name": "stdout",
          "text": [
            "Matrix:\n",
            "[[  1  -5  -2]\n",
            " [  5   2  -8]\n",
            " [  4  -6 -10]]\n",
            "\n",
            "Shape:\t(3, 3)\n",
            "Rank:\t2\n",
            "\n"
          ]
        }
      ]
    },
    {
      "cell_type": "code",
      "source": [
        "## declaring 2 x 3 matrix\n",
        "G = np.array([\n",
        "    [-1,5,7],\n",
        "    [4,3,9]\n",
        "])\n",
        "describe_mat(G)\n"
      ],
      "metadata": {
        "colab": {
          "base_uri": "https://localhost:8080/"
        },
        "id": "WItJgeFbSRhU",
        "outputId": "b18297d8-e2e5-4e7d-de5d-792a6bfcca7d"
      },
      "execution_count": null,
      "outputs": [
        {
          "output_type": "stream",
          "name": "stdout",
          "text": [
            "Matrix:\n",
            "[[-1  5  7]\n",
            " [ 4  3  9]]\n",
            "\n",
            "Shape:\t(2, 3)\n",
            "Rank:\t2\n",
            "\n"
          ]
        }
      ]
    },
    {
      "cell_type": "code",
      "source": [
        "## declaring a 3 x 2 matrix \n",
        "B = np.array([\n",
        "    [300, 40],\n",
        "    [10, 80],\n",
        "    [1400, 112023]\n",
        "])\n",
        "describe_mat(B)\n"
      ],
      "metadata": {
        "colab": {
          "base_uri": "https://localhost:8080/"
        },
        "id": "yTq65hdOSWVW",
        "outputId": "96d79b1d-9e79-4a94-f48a-2e74d1403091"
      },
      "execution_count": null,
      "outputs": [
        {
          "output_type": "stream",
          "name": "stdout",
          "text": [
            "Matrix:\n",
            "[[   300     40]\n",
            " [    10     80]\n",
            " [  1400 112023]]\n",
            "\n",
            "Shape:\t(3, 2)\n",
            "Rank:\t2\n",
            "\n"
          ]
        }
      ]
    },
    {
      "cell_type": "code",
      "source": [
        "H = np.array([\n",
        "              1,2,3,4\n",
        "              ])\n",
        "describe_mat(H)\n"
      ],
      "metadata": {
        "colab": {
          "base_uri": "https://localhost:8080/"
        },
        "id": "kfYDuYjsShnj",
        "outputId": "378ad5d4-780f-45a1-b057-029d85756897"
      },
      "execution_count": null,
      "outputs": [
        {
          "output_type": "stream",
          "name": "stdout",
          "text": [
            "Matrix:\n",
            "[1 2 3 4]\n",
            "\n",
            "Shape:\t(4,)\n",
            "Rank:\t1\n",
            "\n"
          ]
        }
      ]
    },
    {
      "cell_type": "markdown",
      "source": [
        "## Categorizing Matrices"
      ],
      "metadata": {
        "id": "G1B_l1mHTQmE"
      }
    },
    {
      "cell_type": "markdown",
      "source": [
        "There are several ways of  classifying matrices. One could be according to its shape and another is according to their element values. We'll try to go through them. "
      ],
      "metadata": {
        "id": "jOH0ElAyTUBJ"
      }
    },
    {
      "cell_type": "markdown",
      "source": [
        "## According to shape "
      ],
      "metadata": {
        "id": "MY3HBsKfToB9"
      }
    },
    {
      "cell_type": "markdown",
      "source": [
        "### Row and Column Matrices\n"
      ],
      "metadata": {
        "id": "X2zN4UeoTsmL"
      }
    },
    {
      "cell_type": "code",
      "source": [
        "## Declaring a Row Matrix\n",
        "\n",
        "rowmatrix1D = np.array([\n",
        "    3, -6, 2, -10\n",
        "]) ## this is a 1-D Matrix with a shape of (3,), it's not really considered as a row matrix.\n",
        "row_mat_2D = np.array([\n",
        "    [50,28,32, -41]\n",
        "]) ## this is a 2-D Matrix with a shape of (1,3)\n",
        "describe_mat(rowmatrix1D)\n",
        "describe_mat(row_mat_2D)\n"
      ],
      "metadata": {
        "colab": {
          "base_uri": "https://localhost:8080/"
        },
        "id": "_IGNd32xTv-W",
        "outputId": "0dc1036c-7ac4-4690-c810-cf37f4a5b073"
      },
      "execution_count": null,
      "outputs": [
        {
          "output_type": "stream",
          "name": "stdout",
          "text": [
            "Matrix:\n",
            "[  3  -6   2 -10]\n",
            "\n",
            "Shape:\t(4,)\n",
            "Rank:\t1\n",
            "\n",
            "Matrix:\n",
            "[[ 50  28  32 -41]]\n",
            "\n",
            "Shape:\t(1, 4)\n",
            "Rank:\t2\n",
            "\n"
          ]
        }
      ]
    },
    {
      "cell_type": "code",
      "source": [
        "## declaring a column matrix\n",
        "col_mat = np.array([\n",
        "    [1],\n",
        "    [2],\n",
        "    [5]\n",
        "]) ## this is a 2-D Matrix with a shape of (3,1)\n",
        "describe_mat(col_mat)\n"
      ],
      "metadata": {
        "colab": {
          "base_uri": "https://localhost:8080/"
        },
        "id": "UEZYxP_tUk0H",
        "outputId": "414a6587-6595-470c-98af-59ab96a5b5c0"
      },
      "execution_count": null,
      "outputs": [
        {
          "output_type": "stream",
          "name": "stdout",
          "text": [
            "Matrix:\n",
            "[[1]\n",
            " [2]\n",
            " [5]]\n",
            "\n",
            "Shape:\t(3, 1)\n",
            "Rank:\t2\n",
            "\n"
          ]
        }
      ]
    },
    {
      "cell_type": "markdown",
      "source": [
        "# Square Matrix"
      ],
      "metadata": {
        "id": "-dNrg3FCVMB-"
      }
    },
    {
      "cell_type": "code",
      "source": [
        "def describe_mat(matrix):\n",
        "    is_square = True if matrix.shape[0] == matrix.shape[1] else False \n",
        "    print(f'Matrix:\\n{matrix}\\n\\nShape:\\t{matrix.shape}\\nRank:\\t{matrix.ndim}\\nIs Square: {is_square}\\n')\n"
      ],
      "metadata": {
        "id": "BZ4a__dDVNtJ"
      },
      "execution_count": null,
      "outputs": []
    },
    {
      "cell_type": "code",
      "source": [
        "square_mat = np.array([\n",
        "    [1,3,7],\n",
        "    [3,4,6],\n",
        "    [-13,5,6]\n",
        "])\n",
        "\n",
        "non_square_mat = np.array([\n",
        "    [1,2,5],\n",
        "    [3,3,8]\n",
        "])\n",
        "describe_mat(square_mat)\n",
        "describe_mat(non_square_mat)\n"
      ],
      "metadata": {
        "colab": {
          "base_uri": "https://localhost:8080/"
        },
        "id": "I-ir_cosViFM",
        "outputId": "be26ea86-523c-4f51-feb3-32b3026c1983"
      },
      "execution_count": null,
      "outputs": [
        {
          "output_type": "stream",
          "name": "stdout",
          "text": [
            "Matrix:\n",
            "[[  1   3   7]\n",
            " [  3   4   6]\n",
            " [-13   5   6]]\n",
            "\n",
            "Shape:\t(3, 3)\n",
            "Rank:\t2\n",
            "Is Square: True\n",
            "\n",
            "Matrix:\n",
            "[[1 2 5]\n",
            " [3 3 8]]\n",
            "\n",
            "Shape:\t(2, 3)\n",
            "Rank:\t2\n",
            "Is Square: False\n",
            "\n"
          ]
        }
      ]
    },
    {
      "cell_type": "markdown",
      "source": [
        "## Null Matrix"
      ],
      "metadata": {
        "id": "PPYqmX-AWROW"
      }
    },
    {
      "cell_type": "code",
      "source": [
        "def describe_mat(matrix):\n",
        "    if matrix.size > 0:\n",
        "        is_square = True if matrix.shape[0] == matrix.shape[1] else False \n",
        "        print(f'Matrix:\\n{matrix}\\n\\nShape:\\t{matrix.shape}\\nRank:\\t{matrix.ndim}\\nIs square: {is_square}\\n')\n",
        "    else:\n",
        "        print('Matrix is Null')\n"
      ],
      "metadata": {
        "id": "3rl8kQHOWSvP"
      },
      "execution_count": null,
      "outputs": []
    },
    {
      "cell_type": "code",
      "source": [
        "null_mat = np.array([])\n",
        "describe_mat(null_mat)\n"
      ],
      "metadata": {
        "colab": {
          "base_uri": "https://localhost:8080/"
        },
        "id": "KYAXL3xHWWPm",
        "outputId": "abbf9aab-8004-4ab7-e937-97f6950dd250"
      },
      "execution_count": null,
      "outputs": [
        {
          "output_type": "stream",
          "name": "stdout",
          "text": [
            "Matrix is Null\n"
          ]
        }
      ]
    },
    {
      "cell_type": "markdown",
      "source": [
        "### Zero Matrix "
      ],
      "metadata": {
        "id": "ievudsTFXMbR"
      }
    },
    {
      "cell_type": "code",
      "source": [
        "\n",
        "zero_mat_row = np.zeros((4,7))\n",
        "zero_mat_sqr = np.zeros((5,4))\n",
        "zero_mat_rct = np.zeros((6,7))\n",
        "\n",
        "print(f'Zero Row Matrix: \\n{zero_mat_row}')\n",
        "print(f'Zero Square Matrix: \\n{zero_mat_sqr}')\n",
        "print(f'Zero Rectangular Matrix: \\n{zero_mat_rct}')\n",
        "\n",
        "describe_mat(zero_mat_row)\n",
        "describe_mat(zero_mat_sqr)\n",
        "describe_mat(zero_mat_rct)\n",
        "\n"
      ],
      "metadata": {
        "colab": {
          "base_uri": "https://localhost:8080/"
        },
        "id": "w34z7ZXdXQuQ",
        "outputId": "662acec3-65e5-472c-a7a5-fd568f5d4e57"
      },
      "execution_count": null,
      "outputs": [
        {
          "output_type": "stream",
          "name": "stdout",
          "text": [
            "Zero Row Matrix: \n",
            "[[0. 0. 0. 0. 0. 0. 0.]\n",
            " [0. 0. 0. 0. 0. 0. 0.]\n",
            " [0. 0. 0. 0. 0. 0. 0.]\n",
            " [0. 0. 0. 0. 0. 0. 0.]]\n",
            "Zero Square Matrix: \n",
            "[[0. 0. 0. 0.]\n",
            " [0. 0. 0. 0.]\n",
            " [0. 0. 0. 0.]\n",
            " [0. 0. 0. 0.]\n",
            " [0. 0. 0. 0.]]\n",
            "Zero Rectangular Matrix: \n",
            "[[0. 0. 0. 0. 0. 0. 0.]\n",
            " [0. 0. 0. 0. 0. 0. 0.]\n",
            " [0. 0. 0. 0. 0. 0. 0.]\n",
            " [0. 0. 0. 0. 0. 0. 0.]\n",
            " [0. 0. 0. 0. 0. 0. 0.]\n",
            " [0. 0. 0. 0. 0. 0. 0.]]\n",
            "Matrix:\n",
            "[[0. 0. 0. 0. 0. 0. 0.]\n",
            " [0. 0. 0. 0. 0. 0. 0.]\n",
            " [0. 0. 0. 0. 0. 0. 0.]\n",
            " [0. 0. 0. 0. 0. 0. 0.]]\n",
            "\n",
            "Shape:\t(4, 7)\n",
            "Rank:\t2\n",
            "Is square: False\n",
            "\n",
            "Matrix:\n",
            "[[0. 0. 0. 0.]\n",
            " [0. 0. 0. 0.]\n",
            " [0. 0. 0. 0.]\n",
            " [0. 0. 0. 0.]\n",
            " [0. 0. 0. 0.]]\n",
            "\n",
            "Shape:\t(5, 4)\n",
            "Rank:\t2\n",
            "Is square: False\n",
            "\n",
            "Matrix:\n",
            "[[0. 0. 0. 0. 0. 0. 0.]\n",
            " [0. 0. 0. 0. 0. 0. 0.]\n",
            " [0. 0. 0. 0. 0. 0. 0.]\n",
            " [0. 0. 0. 0. 0. 0. 0.]\n",
            " [0. 0. 0. 0. 0. 0. 0.]\n",
            " [0. 0. 0. 0. 0. 0. 0.]]\n",
            "\n",
            "Shape:\t(6, 7)\n",
            "Rank:\t2\n",
            "Is square: False\n",
            "\n"
          ]
        }
      ]
    },
    {
      "cell_type": "markdown",
      "source": [
        "### Ones Matrix"
      ],
      "metadata": {
        "id": "Qr5_LbhmXmR1"
      }
    },
    {
      "cell_type": "code",
      "source": [
        "\n",
        "      \n",
        "ones_mat_row = np.ones((5,2))\n",
        "ones_mat_sqr = np.ones((4,6))\n",
        "ones_mat_rct = np.ones((5,7))\n",
        "\n",
        "print(f'Ones Row Matrix: \\n{ones_mat_row}')\n",
        "print(f'Ones Square Matrix: \\n{ones_mat_sqr}')\n",
        "print(f'Ones Rectangular Matrix: \\n{ones_mat_rct}')\n"
      ],
      "metadata": {
        "id": "y7AN06IlXn1g",
        "colab": {
          "base_uri": "https://localhost:8080/"
        },
        "outputId": "e71c8729-7f21-4bd5-e8db-42812999dd7c"
      },
      "execution_count": null,
      "outputs": [
        {
          "output_type": "stream",
          "name": "stdout",
          "text": [
            "Ones Row Matrix: \n",
            "[[1. 1.]\n",
            " [1. 1.]\n",
            " [1. 1.]\n",
            " [1. 1.]\n",
            " [1. 1.]]\n",
            "Ones Square Matrix: \n",
            "[[1. 1. 1. 1. 1. 1.]\n",
            " [1. 1. 1. 1. 1. 1.]\n",
            " [1. 1. 1. 1. 1. 1.]\n",
            " [1. 1. 1. 1. 1. 1.]]\n",
            "Ones Rectangular Matrix: \n",
            "[[1. 1. 1. 1. 1. 1. 1.]\n",
            " [1. 1. 1. 1. 1. 1. 1.]\n",
            " [1. 1. 1. 1. 1. 1. 1.]\n",
            " [1. 1. 1. 1. 1. 1. 1.]\n",
            " [1. 1. 1. 1. 1. 1. 1.]]\n"
          ]
        }
      ]
    },
    {
      "cell_type": "markdown",
      "source": [
        "Diagonal Matrix"
      ],
      "metadata": {
        "id": "lZFS1y_fX6oX"
      }
    },
    {
      "cell_type": "code",
      "source": [
        "np.array([\n",
        "    [2,0,0],\n",
        "    [0,3,0],\n",
        "    [0,0,5]\n",
        "])\n",
        "#a[1,1], a[2,2], a[3,3]...a[n-1,n-1]\n"
      ],
      "metadata": {
        "id": "oJ16VZJtX8L5",
        "colab": {
          "base_uri": "https://localhost:8080/"
        },
        "outputId": "97b941f2-1f80-4ebf-e4cd-9e4c7052d460"
      },
      "execution_count": null,
      "outputs": [
        {
          "output_type": "execute_result",
          "data": {
            "text/plain": [
              "array([[2, 0, 0],\n",
              "       [0, 3, 0],\n",
              "       [0, 0, 5]])"
            ]
          },
          "metadata": {},
          "execution_count": 40
        }
      ]
    },
    {
      "cell_type": "code",
      "source": [
        "d = np.diag([6,4,2,8])\n",
        "#d.shape[0] == d.shape[1]\n",
        "d"
      ],
      "metadata": {
        "colab": {
          "base_uri": "https://localhost:8080/"
        },
        "id": "NMu4ZbMsYGiA",
        "outputId": "f56784bb-dd42-4e48-b1a8-f6daff4c6351"
      },
      "execution_count": null,
      "outputs": [
        {
          "output_type": "execute_result",
          "data": {
            "text/plain": [
              "array([[6, 0, 0, 0],\n",
              "       [0, 4, 0, 0],\n",
              "       [0, 0, 2, 0],\n",
              "       [0, 0, 0, 8]])"
            ]
          },
          "metadata": {},
          "execution_count": 42
        }
      ]
    },
    {
      "cell_type": "markdown",
      "source": [
        "### Identity matrix "
      ],
      "metadata": {
        "id": "cBIp2QEcYvj4"
      }
    },
    {
      "cell_type": "code",
      "source": [
        "np.eye(15)\n"
      ],
      "metadata": {
        "colab": {
          "base_uri": "https://localhost:8080/"
        },
        "id": "FrchUABhY0Sq",
        "outputId": "30a5a501-984e-447f-a23b-fa1cf7a0c122"
      },
      "execution_count": null,
      "outputs": [
        {
          "output_type": "execute_result",
          "data": {
            "text/plain": [
              "array([[1., 0., 0., 0., 0., 0., 0., 0., 0., 0., 0., 0., 0., 0., 0.],\n",
              "       [0., 1., 0., 0., 0., 0., 0., 0., 0., 0., 0., 0., 0., 0., 0.],\n",
              "       [0., 0., 1., 0., 0., 0., 0., 0., 0., 0., 0., 0., 0., 0., 0.],\n",
              "       [0., 0., 0., 1., 0., 0., 0., 0., 0., 0., 0., 0., 0., 0., 0.],\n",
              "       [0., 0., 0., 0., 1., 0., 0., 0., 0., 0., 0., 0., 0., 0., 0.],\n",
              "       [0., 0., 0., 0., 0., 1., 0., 0., 0., 0., 0., 0., 0., 0., 0.],\n",
              "       [0., 0., 0., 0., 0., 0., 1., 0., 0., 0., 0., 0., 0., 0., 0.],\n",
              "       [0., 0., 0., 0., 0., 0., 0., 1., 0., 0., 0., 0., 0., 0., 0.],\n",
              "       [0., 0., 0., 0., 0., 0., 0., 0., 1., 0., 0., 0., 0., 0., 0.],\n",
              "       [0., 0., 0., 0., 0., 0., 0., 0., 0., 1., 0., 0., 0., 0., 0.],\n",
              "       [0., 0., 0., 0., 0., 0., 0., 0., 0., 0., 1., 0., 0., 0., 0.],\n",
              "       [0., 0., 0., 0., 0., 0., 0., 0., 0., 0., 0., 1., 0., 0., 0.],\n",
              "       [0., 0., 0., 0., 0., 0., 0., 0., 0., 0., 0., 0., 1., 0., 0.],\n",
              "       [0., 0., 0., 0., 0., 0., 0., 0., 0., 0., 0., 0., 0., 1., 0.],\n",
              "       [0., 0., 0., 0., 0., 0., 0., 0., 0., 0., 0., 0., 0., 0., 1.]])"
            ]
          },
          "metadata": {},
          "execution_count": 49
        }
      ]
    },
    {
      "cell_type": "code",
      "source": [
        "np.identity(10)\n"
      ],
      "metadata": {
        "colab": {
          "base_uri": "https://localhost:8080/"
        },
        "id": "l82fNpP_ZBWT",
        "outputId": "d9af10d3-6f4d-480c-8fde-1386675d91b6"
      },
      "execution_count": null,
      "outputs": [
        {
          "output_type": "execute_result",
          "data": {
            "text/plain": [
              "array([[1., 0., 0., 0., 0., 0., 0., 0., 0., 0.],\n",
              "       [0., 1., 0., 0., 0., 0., 0., 0., 0., 0.],\n",
              "       [0., 0., 1., 0., 0., 0., 0., 0., 0., 0.],\n",
              "       [0., 0., 0., 1., 0., 0., 0., 0., 0., 0.],\n",
              "       [0., 0., 0., 0., 1., 0., 0., 0., 0., 0.],\n",
              "       [0., 0., 0., 0., 0., 1., 0., 0., 0., 0.],\n",
              "       [0., 0., 0., 0., 0., 0., 1., 0., 0., 0.],\n",
              "       [0., 0., 0., 0., 0., 0., 0., 1., 0., 0.],\n",
              "       [0., 0., 0., 0., 0., 0., 0., 0., 1., 0.],\n",
              "       [0., 0., 0., 0., 0., 0., 0., 0., 0., 1.]])"
            ]
          },
          "metadata": {},
          "execution_count": 44
        }
      ]
    },
    {
      "cell_type": "markdown",
      "source": [
        "### Upper Triangular Matrix"
      ],
      "metadata": {
        "id": "HTUen8b3ZNXC"
      }
    },
    {
      "cell_type": "code",
      "source": [
        "np.array([\n",
        "    [1,2,3,4],\n",
        "    [0,3,1,-1],\n",
        "    [0,0,5,2],\n",
        "    [0,0,0,2]\n",
        "])\n"
      ],
      "metadata": {
        "colab": {
          "base_uri": "https://localhost:8080/"
        },
        "id": "5bcJIdXWZP-p",
        "outputId": "33f984ac-b564-4b09-9e36-dddcf45735b1"
      },
      "execution_count": null,
      "outputs": [
        {
          "output_type": "execute_result",
          "data": {
            "text/plain": [
              "array([[ 1,  2,  3,  4],\n",
              "       [ 0,  3,  1, -1],\n",
              "       [ 0,  0,  5,  2],\n",
              "       [ 0,  0,  0,  2]])"
            ]
          },
          "metadata": {},
          "execution_count": 31
        }
      ]
    },
    {
      "cell_type": "code",
      "source": [
        "F = np.array([\n",
        "              [2, -3, 4, -5, 6],\n",
        "              [2, -3, 4, -5, 6],\n",
        "              [2, -3, 4, -5, 6],\n"
      ],
      "metadata": {
        "id": "pm3Bc659aFvo"
      },
      "execution_count": null,
      "outputs": []
    },
    {
      "cell_type": "code",
      "source": [
        "F = np.array([\n",
        "              [2, -3, 4, -5, 6],\n",
        "              [2, -3, 4, -5, 6],\n",
        "              [2, -3, 4, -5, 6],\n",
        "              [2, -3, 4, -5, 6],\n",
        "              [2, -3, 4, -5, 6],\n",
        "])\n",
        "np.triu(F)\n"
      ],
      "metadata": {
        "colab": {
          "base_uri": "https://localhost:8080/"
        },
        "id": "N-hzOstvab_E",
        "outputId": "a4f85753-fece-43f5-c68b-5e1a81ceeb64"
      },
      "execution_count": null,
      "outputs": [
        {
          "output_type": "execute_result",
          "data": {
            "text/plain": [
              "array([[ 2, -3,  4, -5,  6],\n",
              "       [ 0, -3,  4, -5,  6],\n",
              "       [ 0,  0,  4, -5,  6],\n",
              "       [ 0,  0,  0, -5,  6],\n",
              "       [ 0,  0,  0,  0,  6]])"
            ]
          },
          "metadata": {},
          "execution_count": 55
        }
      ]
    },
    {
      "cell_type": "code",
      "source": [
        "F = np.array([\n",
        "              [4, -6, -1, 7, -8],\n",
        "              [4, -6, -1, 7, -8],\n",
        "              [4, -6, -1, 7, -8],\n",
        "              [4, -6, -1, 7, -8],\n",
        "              [4, -6, -1, 7, -8],\n",
        "])\n",
        "np.triu(F)"
      ],
      "metadata": {
        "colab": {
          "base_uri": "https://localhost:8080/"
        },
        "id": "9MGJRIVzZX2Z",
        "outputId": "86232c21-9795-4efc-9282-52bd77ab4fb1"
      },
      "execution_count": null,
      "outputs": [
        {
          "output_type": "execute_result",
          "data": {
            "text/plain": [
              "array([[ 4, -6, -1,  7, -8],\n",
              "       [ 0, -6, -1,  7, -8],\n",
              "       [ 0,  0, -1,  7, -8],\n",
              "       [ 0,  0,  0,  7, -8],\n",
              "       [ 0,  0,  0,  0, -8]])"
            ]
          },
          "metadata": {},
          "execution_count": 38
        }
      ]
    },
    {
      "cell_type": "markdown",
      "source": [
        "### Lower Triangular Matrix"
      ],
      "metadata": {
        "id": "5rkv5rxqaVxU"
      }
    },
    {
      "cell_type": "code",
      "source": [
        "np.tril(F)\n"
      ],
      "metadata": {
        "colab": {
          "base_uri": "https://localhost:8080/"
        },
        "id": "EqguPPXDaYmk",
        "outputId": "29f88599-46cc-4a3a-cd6f-0c9be837573c"
      },
      "execution_count": null,
      "outputs": [
        {
          "output_type": "execute_result",
          "data": {
            "text/plain": [
              "array([[ 4,  0,  0,  0,  0],\n",
              "       [ 4, -6,  0,  0,  0],\n",
              "       [ 4, -6, -1,  0,  0],\n",
              "       [ 4, -6, -1,  7,  0],\n",
              "       [ 4, -6, -1,  7, -8]])"
            ]
          },
          "metadata": {},
          "execution_count": 39
        }
      ]
    },
    {
      "cell_type": "markdown",
      "source": [
        "Given the linear combination below, try to create a corresponding matrix representing it.\n"
      ],
      "metadata": {
        "id": "UQYvC86obA4o"
      }
    },
    {
      "cell_type": "markdown",
      "source": [
        ":$$\\theta = 5x + 3y - z$$\n"
      ],
      "metadata": {
        "id": "4g8XT7vda-Gh"
      }
    },
    {
      "cell_type": "markdown",
      "source": [
        "2. Given the system of linear combinations below, try to encode it as a matrix. Also describe the matrix.\n"
      ],
      "metadata": {
        "id": "j51FNcBVbB1l"
      }
    },
    {
      "cell_type": "markdown",
      "source": [
        "$$\n",
        "A = \\left\\{\\begin{array}\n",
        "5x_1 + 2x_2 +x_3\\\\\n",
        "4x_2 - x_3\\\\\n",
        "10x_3\n",
        "\\end{array}\\right.\n",
        "$$\n"
      ],
      "metadata": {
        "id": "9bqE-kkLbDwZ"
      }
    },
    {
      "cell_type": "markdown",
      "source": [
        "Given the matrix below, express it as a linear combination in a markdown and a LaTeX markdown\n"
      ],
      "metadata": {
        "id": "EwhsLk9TbHUd"
      }
    },
    {
      "cell_type": "code",
      "source": [
        "G = np.array([\n",
        "    [1,7,8],\n",
        "    [2,2,2],\n",
        "    [4,6,7]\n",
        "])\n"
      ],
      "metadata": {
        "id": "V_9I109mbIs_"
      },
      "execution_count": null,
      "outputs": []
    },
    {
      "cell_type": "markdown",
      "source": [
        "Given the matrix below, display the output as a LaTeX markdown also express it as a system of linear combinations.\n"
      ],
      "metadata": {
        "id": "AXjOPJRlbRJn"
      }
    },
    {
      "cell_type": "code",
      "source": [
        "H = np.tril(G)\n",
        "H\n"
      ],
      "metadata": {
        "colab": {
          "base_uri": "https://localhost:8080/"
        },
        "id": "SRO2ZK-dbRo7",
        "outputId": "7981833e-3219-4c23-d8ee-d55f91f10da9"
      },
      "execution_count": null,
      "outputs": [
        {
          "output_type": "execute_result",
          "data": {
            "text/plain": [
              "array([[1, 0, 0],\n",
              "       [2, 2, 0],\n",
              "       [4, 6, 7]])"
            ]
          },
          "metadata": {},
          "execution_count": 41
        }
      ]
    },
    {
      "cell_type": "markdown",
      "source": [
        "## Matrix Algebra"
      ],
      "metadata": {
        "id": "etHJ1Bu9bKYy"
      }
    },
    {
      "cell_type": "code",
      "source": [
        "A = np.array([\n",
        "             [1,2],\n",
        "              [23,2],\n",
        "              [6,2],\n",
        "])"
      ],
      "metadata": {
        "id": "eF7-D-a7badx"
      },
      "execution_count": 9,
      "outputs": []
    },
    {
      "cell_type": "code",
      "source": [
        "B = np.array([\n",
        "    [2,2],\n",
        "    [0,0],\n",
        "    [1,1]\n",
        "])\n",
        "A+B"
      ],
      "metadata": {
        "colab": {
          "base_uri": "https://localhost:8080/"
        },
        "id": "F1HlatXcQNEm",
        "outputId": "225a6dfa-2a2b-418d-81d6-843d97f3547b"
      },
      "execution_count": 10,
      "outputs": [
        {
          "output_type": "execute_result",
          "data": {
            "text/plain": [
              "array([[ 3,  4],\n",
              "       [23,  2],\n",
              "       [ 7,  3]])"
            ]
          },
          "metadata": {},
          "execution_count": 10
        }
      ]
    },
    {
      "cell_type": "code",
      "source": [
        "2+A ##Broadcasting\n",
        "# 2*np.ones(A.shape)+A"
      ],
      "metadata": {
        "colab": {
          "base_uri": "https://localhost:8080/"
        },
        "id": "luTV9g8LS0o6",
        "outputId": "7db8c2d5-d4b4-4d32-d243-5eb4b6b8d014"
      },
      "execution_count": 11,
      "outputs": [
        {
          "output_type": "execute_result",
          "data": {
            "text/plain": [
              "array([[ 3,  4],\n",
              "       [25,  4],\n",
              "       [ 8,  4]])"
            ]
          },
          "metadata": {},
          "execution_count": 11
        }
      ]
    },
    {
      "cell_type": "markdown",
      "source": [
        "## Subtraction"
      ],
      "metadata": {
        "id": "h-k14Od0TA2f"
      }
    },
    {
      "cell_type": "code",
      "source": [
        "A-B"
      ],
      "metadata": {
        "colab": {
          "base_uri": "https://localhost:8080/"
        },
        "id": "kt9dZhOgTDI4",
        "outputId": "2b798766-7759-4235-80f0-029381c69b7f"
      },
      "execution_count": 12,
      "outputs": [
        {
          "output_type": "execute_result",
          "data": {
            "text/plain": [
              "array([[-1,  0],\n",
              "       [23,  2],\n",
              "       [ 5,  1]])"
            ]
          },
          "metadata": {},
          "execution_count": 12
        }
      ]
    },
    {
      "cell_type": "code",
      "source": [
        ""
      ],
      "metadata": {
        "id": "wq8IUEj1TGRB"
      },
      "execution_count": null,
      "outputs": []
    },
    {
      "cell_type": "code",
      "source": [
        "A@B"
      ],
      "metadata": {
        "colab": {
          "base_uri": "https://localhost:8080/",
          "height": 166
        },
        "id": "S7OMQgyeS_HW",
        "outputId": "6cfdf925-1a26-4449-97f8-85d0dcb1587b"
      },
      "execution_count": 13,
      "outputs": [
        {
          "output_type": "error",
          "ename": "ValueError",
          "evalue": "ignored",
          "traceback": [
            "\u001b[0;31m---------------------------------------------------------------------------\u001b[0m",
            "\u001b[0;31mValueError\u001b[0m                                Traceback (most recent call last)",
            "\u001b[0;32m<ipython-input-13-5016aafd2858>\u001b[0m in \u001b[0;36m<module>\u001b[0;34m()\u001b[0m\n\u001b[0;32m----> 1\u001b[0;31m \u001b[0mA\u001b[0m\u001b[0;34m@\u001b[0m\u001b[0mB\u001b[0m\u001b[0;34m\u001b[0m\u001b[0;34m\u001b[0m\u001b[0m\n\u001b[0m",
            "\u001b[0;31mValueError\u001b[0m: matmul: Input operand 1 has a mismatch in its core dimension 0, with gufunc signature (n?,k),(k,m?)->(n?,m?) (size 3 is different from 2)"
          ]
        }
      ]
    },
    {
      "cell_type": "code",
      "source": [
        "alpha=10**-10\n",
        "A/(alpha+B)"
      ],
      "metadata": {
        "colab": {
          "base_uri": "https://localhost:8080/"
        },
        "id": "Ga964WuATIne",
        "outputId": "ebafa981-371d-46e2-e220-f04933640e15"
      },
      "execution_count": 14,
      "outputs": [
        {
          "output_type": "execute_result",
          "data": {
            "text/plain": [
              "array([[5.0e-01, 1.0e+00],\n",
              "       [2.3e+11, 2.0e+10],\n",
              "       [6.0e+00, 2.0e+00]])"
            ]
          },
          "metadata": {},
          "execution_count": 14
        }
      ]
    },
    {
      "cell_type": "code",
      "source": [
        "np.add(A,B)"
      ],
      "metadata": {
        "colab": {
          "base_uri": "https://localhost:8080/"
        },
        "id": "y0obLx2dTLCK",
        "outputId": "41e2df8d-0ea6-48e5-a4b3-37769d85a613"
      },
      "execution_count": 15,
      "outputs": [
        {
          "output_type": "execute_result",
          "data": {
            "text/plain": [
              "array([[ 3,  4],\n",
              "       [23,  2],\n",
              "       [ 7,  3]])"
            ]
          },
          "metadata": {},
          "execution_count": 15
        }
      ]
    },
    {
      "cell_type": "code",
      "source": [
        ""
      ],
      "metadata": {
        "id": "T_CDnYb7TM7P"
      },
      "execution_count": null,
      "outputs": []
    },
    {
      "cell_type": "markdown",
      "source": [
        "\n",
        "\n",
        "$$\n",
        "\n",
        "B=\\begin{matrix} 1 & 1 & 1 \\\\ 3 & -2 & -1 \\\\ -1 & 4 & 2\\end{matrix}\n",
        "\n",
        "$$"
      ],
      "metadata": {
        "id": "nclAAxMJ-2L-"
      }
    },
    {
      "cell_type": "markdown",
      "source": [
        "\n",
        "\n",
        "$$\n",
        "\n",
        "B = \\left\\{\n",
        "    \\begin{array}\\\n",
        "\n",
        "        x+y+z \\\\ \n",
        "\n",
        "        3x -2y -z \\\\\n",
        "\n",
        "        -x + 4y +2z\n",
        "\n",
        "    \\end{array}\n",
        "\n",
        "\\right. $$"
      ],
      "metadata": {
        "id": "uJdo48N4_E1b"
      }
    },
    {
      "cell_type": "code",
      "source": [
        "i = 0\n",
        "while i < 5:\n",
        "  print(i)\n",
        "  i += 1\n",
        "  if i == 3:\n",
        "    break\n",
        "  else:\n",
        "    print(0)\n",
        "\n"
      ],
      "metadata": {
        "colab": {
          "base_uri": "https://localhost:8080/"
        },
        "id": "qg3QRuyjCs7R",
        "outputId": "745926bf-9eaa-4324-8c44-d40beba6a292"
      },
      "execution_count": null,
      "outputs": [
        {
          "output_type": "stream",
          "name": "stdout",
          "text": [
            "0\n",
            "0\n",
            "1\n",
            "0\n",
            "2\n"
          ]
        }
      ]
    },
    {
      "cell_type": "code",
      "source": [
        "import numpy as np\n",
        "X = np.array([\n",
        "         [5,0,4],\n",
        "        [4,-1,5],\n",
        "        [3,-1,-6]\n",
        "])\n",
        "Y = np.triu(X)\n",
        "Y"
      ],
      "metadata": {
        "colab": {
          "base_uri": "https://localhost:8080/"
        },
        "id": "2rT1qBE1HWVm",
        "outputId": "48c93797-e84b-4f4e-9f58-16e45072029c"
      },
      "execution_count": null,
      "outputs": [
        {
          "output_type": "execute_result",
          "data": {
            "text/plain": [
              "array([[ 5,  0,  4],\n",
              "       [ 0, -1,  5],\n",
              "       [ 0,  0, -6]])"
            ]
          },
          "metadata": {},
          "execution_count": 5
        }
      ]
    },
    {
      "cell_type": "code",
      "source": [
        "d = {0,1,2}\n",
        "for x in d:\n",
        "  print(x)"
      ],
      "metadata": {
        "colab": {
          "base_uri": "https://localhost:8080/"
        },
        "id": "EvTVMH1VJMwM",
        "outputId": "6ac2e07b-bee4-4772-bd9a-f466bea7fd9b"
      },
      "execution_count": null,
      "outputs": [
        {
          "output_type": "stream",
          "name": "stdout",
          "text": [
            "0\n",
            "1\n",
            "2\n"
          ]
        }
      ]
    },
    {
      "cell_type": "code",
      "source": [
        "def create_user (userid):\n",
        "    print(\"Successfully created user: {}\".format(userid))\n",
        "\n",
        "userid = 2021_100001\n",
        "create_user(2021-100100)\n",
        " \n"
      ],
      "metadata": {
        "colab": {
          "base_uri": "https://localhost:8080/"
        },
        "id": "ENsBAJj7JY-z",
        "outputId": "d03e407f-a4e6-4d66-c63d-066ec6ecfaf7"
      },
      "execution_count": null,
      "outputs": [
        {
          "output_type": "stream",
          "name": "stdout",
          "text": [
            "Successfully created user: -98079\n"
          ]
        }
      ]
    },
    {
      "cell_type": "code",
      "source": [
        "x = 1\n",
        "while True:\n",
        "  if x % 5 == 0:\n",
        "    break\n",
        "    print(x)\n",
        "    x + = 1"
      ],
      "metadata": {
        "colab": {
          "base_uri": "https://localhost:8080/",
          "height": 130
        },
        "id": "qr_sRQuVLXxF",
        "outputId": "cb374113-fd26-4f29-ae8b-d635a3c0c1eb"
      },
      "execution_count": null,
      "outputs": [
        {
          "output_type": "error",
          "ename": "SyntaxError",
          "evalue": "ignored",
          "traceback": [
            "\u001b[0;36m  File \u001b[0;32m\"<ipython-input-21-08c7ac0e1d9e>\"\u001b[0;36m, line \u001b[0;32m6\u001b[0m\n\u001b[0;31m    x + = 1\u001b[0m\n\u001b[0m        ^\u001b[0m\n\u001b[0;31mSyntaxError\u001b[0m\u001b[0;31m:\u001b[0m invalid syntax\n"
          ]
        }
      ]
    },
    {
      "cell_type": "code",
      "source": [
        "P = np.array([\n",
        "              [5,7,2],\n",
        "              [2,3,3],\n",
        "              [4,1,0]\n",
        "\n",
        "])\n",
        "Q = np.array([\n",
        "              [2,2,-3],\n",
        "              [0,0,1],\n",
        "              [1,1,-3]\n",
        "])\n",
        "P + 2*Q"
      ],
      "metadata": {
        "colab": {
          "base_uri": "https://localhost:8080/"
        },
        "id": "YryvCQEBL26j",
        "outputId": "11629db4-e030-49b9-ddc0-7800d725b9e6"
      },
      "execution_count": null,
      "outputs": [
        {
          "output_type": "execute_result",
          "data": {
            "text/plain": [
              "array([[ 9, 11, -4],\n",
              "       [ 2,  3,  5],\n",
              "       [ 6,  3, -6]])"
            ]
          },
          "metadata": {},
          "execution_count": 19
        }
      ]
    },
    {
      "cell_type": "markdown",
      "source": [
        "## sample matrices"
      ],
      "metadata": {
        "id": "MC6ITTZfDQ9s"
      }
    },
    {
      "cell_type": "code",
      "source": [
        "G = np.array([\n",
        "    [-1,5,7, -3],\n",
        "    [4,3,9, 5],\n",
        "    [5,-8,-2,1],\n",
        "    [11,13,14,15]\n",
        "])\n",
        "describe_mat(G)"
      ],
      "metadata": {
        "colab": {
          "base_uri": "https://localhost:8080/"
        },
        "id": "oGHyOk0xDTUU",
        "outputId": "ad611a53-3bda-4cca-eff3-16de7963cda9"
      },
      "execution_count": null,
      "outputs": [
        {
          "output_type": "stream",
          "name": "stdout",
          "text": [
            "Matrix:\n",
            "[[-1  5  7 -3]\n",
            " [ 4  3  9  5]\n",
            " [ 5 -8 -2  1]\n",
            " [11 13 14 15]]\n",
            "\n",
            "Shape:\t(4, 4)\n",
            "Rank:\t2\n",
            "Is square: True\n",
            "\n"
          ]
        }
      ]
    },
    {
      "cell_type": "code",
      "source": [
        "j = np.array([\n",
        "    [-13,15,72, -34,61],\n",
        "    [13,35,23, 35,12],\n",
        "    [51,-82,-23,16,24],\n",
        "    \n",
        "])\n",
        "describe_mat(j)"
      ],
      "metadata": {
        "colab": {
          "base_uri": "https://localhost:8080/"
        },
        "outputId": "2ea78b07-ff28-422e-bf0a-7be1f122c238",
        "id": "oPRdF2m0DuF_"
      },
      "execution_count": null,
      "outputs": [
        {
          "output_type": "stream",
          "name": "stdout",
          "text": [
            "Matrix:\n",
            "[[-13  15  72 -34  61]\n",
            " [ 13  35  23  35  12]\n",
            " [ 51 -82 -23  16  24]]\n",
            "\n",
            "Shape:\t(3, 5)\n",
            "Rank:\t2\n",
            "Is square: False\n",
            "\n"
          ]
        }
      ]
    },
    {
      "cell_type": "code",
      "source": [
        ""
      ],
      "metadata": {
        "id": "-IrzM2T9EAIA"
      },
      "execution_count": null,
      "outputs": []
    },
    {
      "cell_type": "code",
      "source": [
        "F = np.array([\n",
        "              [2, -3, 4, -5, 6],\n",
        "              [2, -3, 4, -5, 6],\n",
        "              [2, -3, 4, -5, 6],\n",
        "              [2, -3, 4, -5, 6],\n",
        "              [2, -3, 4, -5, 6],\n",
        "])\n",
        "describe_mat(F)\n",
        "np.triu(F)\n"
      ],
      "metadata": {
        "colab": {
          "base_uri": "https://localhost:8080/"
        },
        "id": "gYaLRynyEKwI",
        "outputId": "c7152113-39b9-4874-a698-cf22347625b0"
      },
      "execution_count": null,
      "outputs": [
        {
          "output_type": "stream",
          "name": "stdout",
          "text": [
            "Matrix:\n",
            "[[ 2 -3  4 -5  6]\n",
            " [ 2 -3  4 -5  6]\n",
            " [ 2 -3  4 -5  6]\n",
            " [ 2 -3  4 -5  6]\n",
            " [ 2 -3  4 -5  6]]\n",
            "\n",
            "Shape:\t(5, 5)\n",
            "Rank:\t2\n",
            "Is square: True\n",
            "\n"
          ]
        },
        {
          "output_type": "execute_result",
          "data": {
            "text/plain": [
              "array([[ 2, -3,  4, -5,  6],\n",
              "       [ 0, -3,  4, -5,  6],\n",
              "       [ 0,  0,  4, -5,  6],\n",
              "       [ 0,  0,  0, -5,  6],\n",
              "       [ 0,  0,  0,  0,  6]])"
            ]
          },
          "metadata": {},
          "execution_count": 59
        }
      ]
    },
    {
      "cell_type": "code",
      "source": [
        ""
      ],
      "metadata": {
        "id": "fTopuGfxEiNq"
      },
      "execution_count": null,
      "outputs": []
    },
    {
      "cell_type": "code",
      "source": [
        "d = np.diag([6,4,2,8])\n",
        "#d.shape[0] == d.shape[1]\n",
        "describe_mat(d)\n",
        "d"
      ],
      "metadata": {
        "colab": {
          "base_uri": "https://localhost:8080/"
        },
        "outputId": "f4157d55-5614-4f0f-dbbc-847051a8fb28",
        "id": "bqbJON5JEqv-"
      },
      "execution_count": null,
      "outputs": [
        {
          "output_type": "stream",
          "name": "stdout",
          "text": [
            "Matrix:\n",
            "[[6 0 0 0]\n",
            " [0 4 0 0]\n",
            " [0 0 2 0]\n",
            " [0 0 0 8]]\n",
            "\n",
            "Shape:\t(4, 4)\n",
            "Rank:\t2\n",
            "Is square: True\n",
            "\n"
          ]
        },
        {
          "output_type": "execute_result",
          "data": {
            "text/plain": [
              "array([[6, 0, 0, 0],\n",
              "       [0, 4, 0, 0],\n",
              "       [0, 0, 2, 0],\n",
              "       [0, 0, 0, 8]])"
            ]
          },
          "metadata": {},
          "execution_count": 61
        }
      ]
    },
    {
      "cell_type": "markdown",
      "source": [
        ""
      ],
      "metadata": {
        "id": "Vlear2kI4Bjg"
      }
    },
    {
      "cell_type": "markdown",
      "source": [
        "## Task 1 \n",
        "Create a function named mat_desc() that througouhly describes a matrix, it should:\n",
        "\n",
        "Displays the shape, size, and rank of the matrix.\n",
        "Displays whether the matrix is square or non-square.\n",
        "Displays whether the matrix is an empty matrix.\n",
        "Displays if the matrix is an identity, ones, or zeros matrix\n",
        "Use 5 sample matrices in which their shapes are not lower than . In your methodology, create a flowchart discuss the functions and methods you have done. Present your results in the results section showing the description of each matrix you have declared."
      ],
      "metadata": {
        "id": "LY8ZKdu84CXw"
      }
    },
    {
      "cell_type": "code",
      "source": [
        "## Function Area\n",
        "import numpy as np\n"
      ],
      "metadata": {
        "id": "zeiFI45p4J5a"
      },
      "execution_count": 2,
      "outputs": []
    },
    {
      "cell_type": "code",
      "source": [
        "## Matrix Declarations\n",
        "\n",
        "def mat_desc(mat):\n",
        "    sq = False\n",
        "    mat = np.array(mat)\n",
        "    print(mat)\n",
        "    print('Shape:', mat.shape)\n",
        "    print('Size:', mat.size)\n",
        "    print('Rank:', np.linalg.matrix_rank(mat))\n",
        "    if(mat.shape[0] == mat.shape[1]):\n",
        "        sq = True\n",
        "        print('The matrix is square')\n",
        "    else:\n",
        "        print('The matrix is non-square')\n",
        "    if(mat.shape[0] == 0 and mat.shape[1] == 0):\n",
        "        print('The matrix is empty')\n",
        "    else:\n",
        "        print('The matrix is not empty')\n",
        "    iden = np.identity(mat.shape[0])\n",
        "    if(sq and (iden == mat).all()):\n",
        "        print('The matrix is an identity matrix')\n",
        "    else:\n",
        "        print('The matrix is not an identity matrix')\n",
        "    one = np.ones((mat.shape[0], mat.shape[1]))\n",
        "    if((one == mat).all()):\n",
        "        print('The matrix is a ones matrix')\n",
        "    else:\n",
        "        print('The matrix is not an ones matrix')\n",
        "    zero = np.zeros((mat.shape[0], mat.shape[1]))\n",
        "    if((zero == mat).all()):\n",
        "        print('The matrix is a zeros matrix')\n",
        "    else:\n",
        "        print('The matrix is not a zeros matrix')"
      ],
      "metadata": {
        "id": "DM3Os7zl4QAC"
      },
      "execution_count": 1,
      "outputs": []
    },
    {
      "cell_type": "code",
      "source": [
        "## Sample Matrices\n",
        "print('Matrix 1:')\n",
        "mat_desc([[0,0,0,0], [0, 0, 0,0], [0,0,0,0]])\n",
        "print('Matrix 2:')\n",
        "mat_desc([[4, 3, 0, 1], [2, 6, 2,5], [7, 1, 2, 8]])\n",
        "print('Matrix 3:')\n",
        "mat_desc([[1, 3, 2, 2], [4, 7, 6, 2], [5, 6, 9, 4]])\n",
        "print('Matrix 4:')\n",
        "mat_desc([[1,1,1],[1,1,1],[1,1,1],[1,1,1], [1,1,1]])\n",
        "print('Matrix 5:')\n",
        "mat_desc([[7,1,5,0],[1,6,2,0],[4,8,6,9],[7,2,1,0],[1,9,1,5]])"
      ],
      "metadata": {
        "colab": {
          "base_uri": "https://localhost:8080/"
        },
        "id": "zNiq-YD74Tvw",
        "outputId": "47db787e-fe2d-4fd9-b9fa-7e01fdca9bc9"
      },
      "execution_count": 3,
      "outputs": [
        {
          "output_type": "stream",
          "name": "stdout",
          "text": [
            "Matrix 1:\n",
            "[[0 0 0 0]\n",
            " [0 0 0 0]\n",
            " [0 0 0 0]]\n",
            "Shape: (3, 4)\n",
            "Size: 12\n",
            "Rank: 0\n",
            "The matrix is non-square\n",
            "The matrix is not empty\n",
            "The matrix is not an identity matrix\n",
            "The matrix is not an ones matrix\n",
            "The matrix is a zeros matrix\n",
            "Matrix 2:\n",
            "[[4 3 0 1]\n",
            " [2 6 2 5]\n",
            " [7 1 2 8]]\n",
            "Shape: (3, 4)\n",
            "Size: 12\n",
            "Rank: 3\n",
            "The matrix is non-square\n",
            "The matrix is not empty\n",
            "The matrix is not an identity matrix\n",
            "The matrix is not an ones matrix\n",
            "The matrix is not a zeros matrix\n",
            "Matrix 3:\n",
            "[[1 3 2 2]\n",
            " [4 7 6 2]\n",
            " [5 6 9 4]]\n",
            "Shape: (3, 4)\n",
            "Size: 12\n",
            "Rank: 3\n",
            "The matrix is non-square\n",
            "The matrix is not empty\n",
            "The matrix is not an identity matrix\n",
            "The matrix is not an ones matrix\n",
            "The matrix is not a zeros matrix\n",
            "Matrix 4:\n",
            "[[1 1 1]\n",
            " [1 1 1]\n",
            " [1 1 1]\n",
            " [1 1 1]\n",
            " [1 1 1]]\n",
            "Shape: (5, 3)\n",
            "Size: 15\n",
            "Rank: 1\n",
            "The matrix is non-square\n",
            "The matrix is not empty\n",
            "The matrix is not an identity matrix\n",
            "The matrix is a ones matrix\n",
            "The matrix is not a zeros matrix\n",
            "Matrix 5:\n",
            "[[7 1 5 0]\n",
            " [1 6 2 0]\n",
            " [4 8 6 9]\n",
            " [7 2 1 0]\n",
            " [1 9 1 5]]\n",
            "Shape: (5, 4)\n",
            "Size: 20\n",
            "Rank: 4\n",
            "The matrix is non-square\n",
            "The matrix is not empty\n",
            "The matrix is not an identity matrix\n",
            "The matrix is not an ones matrix\n",
            "The matrix is not a zeros matrix\n"
          ]
        }
      ]
    },
    {
      "cell_type": "markdown",
      "source": [
        "## Task 2\n",
        "Create a function named mat_operations() that takes in two matrices a input parameters it should:\n",
        "\n",
        "1. Determines if the matrices are viable for operation and returns your \n",
        " own error message if they are not viable.\n",
        "2. Returns the sum of the matrices.\n",
        "3. Returns the different of the matrices.\n",
        "4. Returns the element-wise multiplication of the matrices.\n",
        "5. Returns the element-wise division of the matrices.\n",
        "Use 5 sample matrices in which their shapes are not lower than (3x3) . In your methodology, create a flowchart discuss the functions and methods you have done. Present your results in the results section showing the description of each matrix you have declared."
      ],
      "metadata": {
        "id": "Qh9KQqtrAzi2"
      }
    },
    {
      "cell_type": "code",
      "source": [
        "## Function Area\n",
        "import numpy as np"
      ],
      "metadata": {
        "id": "u70-XJNH4jNI"
      },
      "execution_count": 4,
      "outputs": []
    },
    {
      "cell_type": "code",
      "source": [
        "def mat_operations(mat1, mat2):\n",
        "    mat1 = np.array(mat1)\n",
        "    mat2 = np.array(mat2)\n",
        "    print('Matrix 1:', mat1)\n",
        "    print('Matrix 2:', mat2)\n",
        "    if(mat1.shape != mat2.shape):\n",
        "        print('The matrices are not equal and invalid size operation.')\n",
        "        return\n",
        "    print('Sum of the  matrices:')\n",
        "    matsum = mat1 + mat2\n",
        "    print(matsum)\n",
        "    print('Difference of the  matrices:')\n",
        "    matdiff = mat1 - mat2\n",
        "    print(matdiff)\n",
        "    print('Element-wise multiplication of the  matrices:')\n",
        "    matmul = np.multiply(mat1, mat2)\n",
        "    print(matmul)\n",
        "    print('Element-wise division of the  matrices:')\n",
        "    matdiv = np.divide(mat1, mat2)\n",
        "    print(matdiv)"
      ],
      "metadata": {
        "id": "F4jotJeu4oyI"
      },
      "execution_count": 5,
      "outputs": []
    },
    {
      "cell_type": "code",
      "source": [
        "print('sample1:')\n",
        "mat_operations([[2,3,2], [5,4,7], [4,3,8]],[[3,4,5], [9,7,1],[1,2,6]])\n",
        "\n",
        "print('sample 2:')\n",
        "mat_operations([[2, 6, 3,4], [3,3,1,5], [5,1,5,7]], [[3,7,5,7],[1,2,1,9],[1,1,1,6]])\n",
        "\n",
        "print('sample 3:')\n",
        "mat_operations([[2, 5, 1], [3,6,3], [6,1,5]], [[5,4,2],[3,4,6],[3,2,3]])\n",
        "\n",
        "print('sample 4:')\n",
        "mat_operations([[6,2,1,8,2], [3,6,3,7,8], [6,1,5,9,2]], [[5,4,2,7,7],[3,4,6,8,9],[3,2,3,6,2]])\n",
        "\n",
        "print('sample 5:')\n",
        "mat_operations([[6,2,1,8,2,5], [3,6,3,7,8,8], [6,1,5,9,2,2]], [[5,4,2,7,7,8],[3,4,6,8,9,2],[3,2,3,6,2,1]])\n"
      ],
      "metadata": {
        "colab": {
          "base_uri": "https://localhost:8080/"
        },
        "id": "ZPHkGR0V4vxv",
        "outputId": "fc63b0db-c360-4422-d730-cbc6007440d7"
      },
      "execution_count": 6,
      "outputs": [
        {
          "output_type": "stream",
          "name": "stdout",
          "text": [
            "sample1:\n",
            "Matrix 1: [[2 3 2]\n",
            " [5 4 7]\n",
            " [4 3 8]]\n",
            "Matrix 2: [[3 4 5]\n",
            " [9 7 1]\n",
            " [1 2 6]]\n",
            "Sum of the  matrices:\n",
            "[[ 5  7  7]\n",
            " [14 11  8]\n",
            " [ 5  5 14]]\n",
            "Difference of the  matrices:\n",
            "[[-1 -1 -3]\n",
            " [-4 -3  6]\n",
            " [ 3  1  2]]\n",
            "Element-wise multiplication of the  matrices:\n",
            "[[ 6 12 10]\n",
            " [45 28  7]\n",
            " [ 4  6 48]]\n",
            "Element-wise division of the  matrices:\n",
            "[[0.66666667 0.75       0.4       ]\n",
            " [0.55555556 0.57142857 7.        ]\n",
            " [4.         1.5        1.33333333]]\n",
            "sample 2:\n",
            "Matrix 1: [[2 6 3 4]\n",
            " [3 3 1 5]\n",
            " [5 1 5 7]]\n",
            "Matrix 2: [[3 7 5 7]\n",
            " [1 2 1 9]\n",
            " [1 1 1 6]]\n",
            "Sum of the  matrices:\n",
            "[[ 5 13  8 11]\n",
            " [ 4  5  2 14]\n",
            " [ 6  2  6 13]]\n",
            "Difference of the  matrices:\n",
            "[[-1 -1 -2 -3]\n",
            " [ 2  1  0 -4]\n",
            " [ 4  0  4  1]]\n",
            "Element-wise multiplication of the  matrices:\n",
            "[[ 6 42 15 28]\n",
            " [ 3  6  1 45]\n",
            " [ 5  1  5 42]]\n",
            "Element-wise division of the  matrices:\n",
            "[[0.66666667 0.85714286 0.6        0.57142857]\n",
            " [3.         1.5        1.         0.55555556]\n",
            " [5.         1.         5.         1.16666667]]\n",
            "sample 3:\n",
            "Matrix 1: [[2 5 1]\n",
            " [3 6 3]\n",
            " [6 1 5]]\n",
            "Matrix 2: [[5 4 2]\n",
            " [3 4 6]\n",
            " [3 2 3]]\n",
            "Sum of the  matrices:\n",
            "[[ 7  9  3]\n",
            " [ 6 10  9]\n",
            " [ 9  3  8]]\n",
            "Difference of the  matrices:\n",
            "[[-3  1 -1]\n",
            " [ 0  2 -3]\n",
            " [ 3 -1  2]]\n",
            "Element-wise multiplication of the  matrices:\n",
            "[[10 20  2]\n",
            " [ 9 24 18]\n",
            " [18  2 15]]\n",
            "Element-wise division of the  matrices:\n",
            "[[0.4        1.25       0.5       ]\n",
            " [1.         1.5        0.5       ]\n",
            " [2.         0.5        1.66666667]]\n",
            "sample 4:\n",
            "Matrix 1: [[6 2 1 8 2]\n",
            " [3 6 3 7 8]\n",
            " [6 1 5 9 2]]\n",
            "Matrix 2: [[5 4 2 7 7]\n",
            " [3 4 6 8 9]\n",
            " [3 2 3 6 2]]\n",
            "Sum of the  matrices:\n",
            "[[11  6  3 15  9]\n",
            " [ 6 10  9 15 17]\n",
            " [ 9  3  8 15  4]]\n",
            "Difference of the  matrices:\n",
            "[[ 1 -2 -1  1 -5]\n",
            " [ 0  2 -3 -1 -1]\n",
            " [ 3 -1  2  3  0]]\n",
            "Element-wise multiplication of the  matrices:\n",
            "[[30  8  2 56 14]\n",
            " [ 9 24 18 56 72]\n",
            " [18  2 15 54  4]]\n",
            "Element-wise division of the  matrices:\n",
            "[[1.2        0.5        0.5        1.14285714 0.28571429]\n",
            " [1.         1.5        0.5        0.875      0.88888889]\n",
            " [2.         0.5        1.66666667 1.5        1.        ]]\n",
            "sample 5:\n",
            "Matrix 1: [[6 2 1 8 2 5]\n",
            " [3 6 3 7 8 8]\n",
            " [6 1 5 9 2 2]]\n",
            "Matrix 2: [[5 4 2 7 7 8]\n",
            " [3 4 6 8 9 2]\n",
            " [3 2 3 6 2 1]]\n",
            "Sum of the  matrices:\n",
            "[[11  6  3 15  9 13]\n",
            " [ 6 10  9 15 17 10]\n",
            " [ 9  3  8 15  4  3]]\n",
            "Difference of the  matrices:\n",
            "[[ 1 -2 -1  1 -5 -3]\n",
            " [ 0  2 -3 -1 -1  6]\n",
            " [ 3 -1  2  3  0  1]]\n",
            "Element-wise multiplication of the  matrices:\n",
            "[[30  8  2 56 14 40]\n",
            " [ 9 24 18 56 72 16]\n",
            " [18  2 15 54  4  2]]\n",
            "Element-wise division of the  matrices:\n",
            "[[1.2        0.5        0.5        1.14285714 0.28571429 0.625     ]\n",
            " [1.         1.5        0.5        0.875      0.88888889 4.        ]\n",
            " [2.         0.5        1.66666667 1.5        1.         2.        ]]\n"
          ]
        }
      ]
    }
  ]
}